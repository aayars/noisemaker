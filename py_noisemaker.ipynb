{
  "nbformat": 4,
  "nbformat_minor": 0,
  "metadata": {
    "colab": {
      "name": "py-noisemaker.ipynb",
      "private_outputs": true,
      "provenance": [],
      "collapsed_sections": [],
      "authorship_tag": "ABX9TyPTkOQDs2oNVJTqhbh2iGlg",
      "include_colab_link": true
    },
    "kernelspec": {
      "name": "python3",
      "display_name": "Python 3"
    },
    "language_info": {
      "name": "python"
    }
  },
  "cells": [
    {
      "cell_type": "markdown",
      "metadata": {
        "id": "view-in-github",
        "colab_type": "text"
      },
      "source": [
        "<a href=\"https://colab.research.google.com/github/aayars/py-noisemaker/blob/master/py_noisemaker.ipynb\" target=\"_parent\"><img src=\"https://colab.research.google.com/assets/colab-badge.svg\" alt=\"Open In Colab\"/></a>"
      ]
    },
    {
      "cell_type": "markdown",
      "metadata": {
        "id": "KDQRCHkVTwaE"
      },
      "source": [
        "Install Noisemaker:"
      ]
    },
    {
      "cell_type": "code",
      "metadata": {
        "id": "VqQBFVPWOhVe"
      },
      "source": [
        "!git clone https://github.com/aayars/py-noisemaker.git\n",
        "!cd py-noisemaker && pip install .\n",
        "!pip install tensorflow==2.16.1"
      ],
      "execution_count": null,
      "outputs": []
    },
    {
      "cell_type": "markdown",
      "metadata": {
        "id": "AcPDGWevR-gg"
      },
      "source": [
        "Generate an image from a random preset:"
      ]
    },
    {
      "cell_type": "code",
      "metadata": {
        "id": "qwZZKyFlPvun"
      },
      "source": [
        "!noisemaker generator random --height 1024 --width 1024\n",
        "\n",
        "from IPython.display import Image\n",
        "Image('art.png')"
      ],
      "execution_count": null,
      "outputs": []
    },
    {
      "cell_type": "markdown",
      "metadata": {
        "id": "Go_Dh7hYSdgn"
      },
      "source": [
        "Apply a random effect preset to the image:"
      ]
    },
    {
      "cell_type": "code",
      "metadata": {
        "id": "p3CNATcaRS0C"
      },
      "source": [
        "!noisemaker effect random --no-resize art.png\n",
        "\n",
        "from IPython.display import Image\n",
        "Image('mangled.png')"
      ],
      "execution_count": null,
      "outputs": []
    }
  ]
}
